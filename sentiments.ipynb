{
  "nbformat": 4,
  "nbformat_minor": 0,
  "metadata": {
    "colab": {
      "name": "sentiments.ipynb",
      "provenance": [],
      "collapsed_sections": []
    },
    "kernelspec": {
      "name": "python3",
      "display_name": "Python 3"
    },
    "language_info": {
      "name": "python"
    }
  },
  "cells": [
    {
      "cell_type": "code",
      "execution_count": 1,
      "metadata": {
        "colab": {
          "base_uri": "https://localhost:8080/",
          "height": 35
        },
        "id": "ldeUkr3wDk1n",
        "outputId": "fb8e5a5b-c1dd-4a01-e551-e2e39b7dee89"
      },
      "outputs": [
        {
          "output_type": "execute_result",
          "data": {
            "application/vnd.google.colaboratory.intrinsic+json": {
              "type": "string"
            },
            "text/plain": [
              "'/content'"
            ]
          },
          "metadata": {},
          "execution_count": 1
        }
      ],
      "source": [
        "pwd"
      ]
    },
    {
      "cell_type": "code",
      "source": [
        "import tensorflow as tf\n",
        "import pandas as pd\n",
        "import numpy as np\n",
        "import tensorflow.keras as keras"
      ],
      "metadata": {
        "id": "g7Lph3_6D5yg"
      },
      "execution_count": 3,
      "outputs": []
    },
    {
      "cell_type": "code",
      "source": [
        "imdb_reviews = pd.read_csv(\"/content/imdb_reviews.csv\")\n",
        "test_reviews = pd.read_csv(\"/content/test_reviews.csv\")"
      ],
      "metadata": {
        "id": "CLslCVBHEjGa"
      },
      "execution_count": 4,
      "outputs": []
    },
    {
      "cell_type": "code",
      "source": [
        "imdb_reviews.head()"
      ],
      "metadata": {
        "colab": {
          "base_uri": "https://localhost:8080/",
          "height": 206
        },
        "id": "5Doo7dQpFLnz",
        "outputId": "4f50dc6f-26bd-414e-ff88-2583144ab589"
      },
      "execution_count": 9,
      "outputs": [
        {
          "output_type": "execute_result",
          "data": {
            "text/html": [
              "\n",
              "  <div id=\"df-fba7cf2e-b2a3-4354-adad-054cede20eb3\">\n",
              "    <div class=\"colab-df-container\">\n",
              "      <div>\n",
              "<style scoped>\n",
              "    .dataframe tbody tr th:only-of-type {\n",
              "        vertical-align: middle;\n",
              "    }\n",
              "\n",
              "    .dataframe tbody tr th {\n",
              "        vertical-align: top;\n",
              "    }\n",
              "\n",
              "    .dataframe thead th {\n",
              "        text-align: right;\n",
              "    }\n",
              "</style>\n",
              "<table border=\"1\" class=\"dataframe\">\n",
              "  <thead>\n",
              "    <tr style=\"text-align: right;\">\n",
              "      <th></th>\n",
              "      <th>Reviews</th>\n",
              "      <th>Sentiment</th>\n",
              "    </tr>\n",
              "  </thead>\n",
              "  <tbody>\n",
              "    <tr>\n",
              "      <th>0</th>\n",
              "      <td>&lt;START this film was just brilliant casting lo...</td>\n",
              "      <td>positive</td>\n",
              "    </tr>\n",
              "    <tr>\n",
              "      <th>1</th>\n",
              "      <td>&lt;START big hair big boobs bad music and a gian...</td>\n",
              "      <td>negative</td>\n",
              "    </tr>\n",
              "    <tr>\n",
              "      <th>2</th>\n",
              "      <td>&lt;START this has to be one of the worst films o...</td>\n",
              "      <td>negative</td>\n",
              "    </tr>\n",
              "    <tr>\n",
              "      <th>3</th>\n",
              "      <td>&lt;START the &lt;UNK&gt; &lt;UNK&gt; at storytelling the tra...</td>\n",
              "      <td>positive</td>\n",
              "    </tr>\n",
              "    <tr>\n",
              "      <th>4</th>\n",
              "      <td>&lt;START worst mistake of my life br br i picked...</td>\n",
              "      <td>negative</td>\n",
              "    </tr>\n",
              "  </tbody>\n",
              "</table>\n",
              "</div>\n",
              "      <button class=\"colab-df-convert\" onclick=\"convertToInteractive('df-fba7cf2e-b2a3-4354-adad-054cede20eb3')\"\n",
              "              title=\"Convert this dataframe to an interactive table.\"\n",
              "              style=\"display:none;\">\n",
              "        \n",
              "  <svg xmlns=\"http://www.w3.org/2000/svg\" height=\"24px\"viewBox=\"0 0 24 24\"\n",
              "       width=\"24px\">\n",
              "    <path d=\"M0 0h24v24H0V0z\" fill=\"none\"/>\n",
              "    <path d=\"M18.56 5.44l.94 2.06.94-2.06 2.06-.94-2.06-.94-.94-2.06-.94 2.06-2.06.94zm-11 1L8.5 8.5l.94-2.06 2.06-.94-2.06-.94L8.5 2.5l-.94 2.06-2.06.94zm10 10l.94 2.06.94-2.06 2.06-.94-2.06-.94-.94-2.06-.94 2.06-2.06.94z\"/><path d=\"M17.41 7.96l-1.37-1.37c-.4-.4-.92-.59-1.43-.59-.52 0-1.04.2-1.43.59L10.3 9.45l-7.72 7.72c-.78.78-.78 2.05 0 2.83L4 21.41c.39.39.9.59 1.41.59.51 0 1.02-.2 1.41-.59l7.78-7.78 2.81-2.81c.8-.78.8-2.07 0-2.86zM5.41 20L4 18.59l7.72-7.72 1.47 1.35L5.41 20z\"/>\n",
              "  </svg>\n",
              "      </button>\n",
              "      \n",
              "  <style>\n",
              "    .colab-df-container {\n",
              "      display:flex;\n",
              "      flex-wrap:wrap;\n",
              "      gap: 12px;\n",
              "    }\n",
              "\n",
              "    .colab-df-convert {\n",
              "      background-color: #E8F0FE;\n",
              "      border: none;\n",
              "      border-radius: 50%;\n",
              "      cursor: pointer;\n",
              "      display: none;\n",
              "      fill: #1967D2;\n",
              "      height: 32px;\n",
              "      padding: 0 0 0 0;\n",
              "      width: 32px;\n",
              "    }\n",
              "\n",
              "    .colab-df-convert:hover {\n",
              "      background-color: #E2EBFA;\n",
              "      box-shadow: 0px 1px 2px rgba(60, 64, 67, 0.3), 0px 1px 3px 1px rgba(60, 64, 67, 0.15);\n",
              "      fill: #174EA6;\n",
              "    }\n",
              "\n",
              "    [theme=dark] .colab-df-convert {\n",
              "      background-color: #3B4455;\n",
              "      fill: #D2E3FC;\n",
              "    }\n",
              "\n",
              "    [theme=dark] .colab-df-convert:hover {\n",
              "      background-color: #434B5C;\n",
              "      box-shadow: 0px 1px 3px 1px rgba(0, 0, 0, 0.15);\n",
              "      filter: drop-shadow(0px 1px 2px rgba(0, 0, 0, 0.3));\n",
              "      fill: #FFFFFF;\n",
              "    }\n",
              "  </style>\n",
              "\n",
              "      <script>\n",
              "        const buttonEl =\n",
              "          document.querySelector('#df-fba7cf2e-b2a3-4354-adad-054cede20eb3 button.colab-df-convert');\n",
              "        buttonEl.style.display =\n",
              "          google.colab.kernel.accessAllowed ? 'block' : 'none';\n",
              "\n",
              "        async function convertToInteractive(key) {\n",
              "          const element = document.querySelector('#df-fba7cf2e-b2a3-4354-adad-054cede20eb3');\n",
              "          const dataTable =\n",
              "            await google.colab.kernel.invokeFunction('convertToInteractive',\n",
              "                                                     [key], {});\n",
              "          if (!dataTable) return;\n",
              "\n",
              "          const docLinkHtml = 'Like what you see? Visit the ' +\n",
              "            '<a target=\"_blank\" href=https://colab.research.google.com/notebooks/data_table.ipynb>data table notebook</a>'\n",
              "            + ' to learn more about interactive tables.';\n",
              "          element.innerHTML = '';\n",
              "          dataTable['output_type'] = 'display_data';\n",
              "          await google.colab.output.renderOutput(dataTable, element);\n",
              "          const docLink = document.createElement('div');\n",
              "          docLink.innerHTML = docLinkHtml;\n",
              "          element.appendChild(docLink);\n",
              "        }\n",
              "      </script>\n",
              "    </div>\n",
              "  </div>\n",
              "  "
            ],
            "text/plain": [
              "                                             Reviews Sentiment\n",
              "0  <START this film was just brilliant casting lo...  positive\n",
              "1  <START big hair big boobs bad music and a gian...  negative\n",
              "2  <START this has to be one of the worst films o...  negative\n",
              "3  <START the <UNK> <UNK> at storytelling the tra...  positive\n",
              "4  <START worst mistake of my life br br i picked...  negative"
            ]
          },
          "metadata": {},
          "execution_count": 9
        }
      ]
    },
    {
      "cell_type": "markdown",
      "source": [
        "## map each word to distinct integers (hasing)"
      ],
      "metadata": {
        "id": "opJsnhKzF3m-"
      }
    },
    {
      "cell_type": "code",
      "source": [
        "word_index = pd.read_csv(\"/content/word_indexes.csv\")"
      ],
      "metadata": {
        "id": "IiZx7zUEF7bf"
      },
      "execution_count": 10,
      "outputs": []
    },
    {
      "cell_type": "code",
      "source": [
        "word_index.head(10)"
      ],
      "metadata": {
        "colab": {
          "base_uri": "https://localhost:8080/",
          "height": 363
        },
        "id": "2rbUCFWwGaVy",
        "outputId": "dcb9c7b5-ba8e-4863-c49d-a1eb3e27af10"
      },
      "execution_count": 11,
      "outputs": [
        {
          "output_type": "execute_result",
          "data": {
            "text/html": [
              "\n",
              "  <div id=\"df-45f02237-a258-4972-81b9-55c9bc1f6a8c\">\n",
              "    <div class=\"colab-df-container\">\n",
              "      <div>\n",
              "<style scoped>\n",
              "    .dataframe tbody tr th:only-of-type {\n",
              "        vertical-align: middle;\n",
              "    }\n",
              "\n",
              "    .dataframe tbody tr th {\n",
              "        vertical-align: top;\n",
              "    }\n",
              "\n",
              "    .dataframe thead th {\n",
              "        text-align: right;\n",
              "    }\n",
              "</style>\n",
              "<table border=\"1\" class=\"dataframe\">\n",
              "  <thead>\n",
              "    <tr style=\"text-align: right;\">\n",
              "      <th></th>\n",
              "      <th>Words</th>\n",
              "      <th>Indexes</th>\n",
              "    </tr>\n",
              "  </thead>\n",
              "  <tbody>\n",
              "    <tr>\n",
              "      <th>0</th>\n",
              "      <td>tsukino</td>\n",
              "      <td>52009</td>\n",
              "    </tr>\n",
              "    <tr>\n",
              "      <th>1</th>\n",
              "      <td>nunnery</td>\n",
              "      <td>52010</td>\n",
              "    </tr>\n",
              "    <tr>\n",
              "      <th>2</th>\n",
              "      <td>sonja</td>\n",
              "      <td>16819</td>\n",
              "    </tr>\n",
              "    <tr>\n",
              "      <th>3</th>\n",
              "      <td>vani</td>\n",
              "      <td>63954</td>\n",
              "    </tr>\n",
              "    <tr>\n",
              "      <th>4</th>\n",
              "      <td>woods</td>\n",
              "      <td>1411</td>\n",
              "    </tr>\n",
              "    <tr>\n",
              "      <th>5</th>\n",
              "      <td>spiders</td>\n",
              "      <td>16118</td>\n",
              "    </tr>\n",
              "    <tr>\n",
              "      <th>6</th>\n",
              "      <td>hanging</td>\n",
              "      <td>2348</td>\n",
              "    </tr>\n",
              "    <tr>\n",
              "      <th>7</th>\n",
              "      <td>woody</td>\n",
              "      <td>2292</td>\n",
              "    </tr>\n",
              "    <tr>\n",
              "      <th>8</th>\n",
              "      <td>trawling</td>\n",
              "      <td>52011</td>\n",
              "    </tr>\n",
              "    <tr>\n",
              "      <th>9</th>\n",
              "      <td>hold's</td>\n",
              "      <td>52012</td>\n",
              "    </tr>\n",
              "  </tbody>\n",
              "</table>\n",
              "</div>\n",
              "      <button class=\"colab-df-convert\" onclick=\"convertToInteractive('df-45f02237-a258-4972-81b9-55c9bc1f6a8c')\"\n",
              "              title=\"Convert this dataframe to an interactive table.\"\n",
              "              style=\"display:none;\">\n",
              "        \n",
              "  <svg xmlns=\"http://www.w3.org/2000/svg\" height=\"24px\"viewBox=\"0 0 24 24\"\n",
              "       width=\"24px\">\n",
              "    <path d=\"M0 0h24v24H0V0z\" fill=\"none\"/>\n",
              "    <path d=\"M18.56 5.44l.94 2.06.94-2.06 2.06-.94-2.06-.94-.94-2.06-.94 2.06-2.06.94zm-11 1L8.5 8.5l.94-2.06 2.06-.94-2.06-.94L8.5 2.5l-.94 2.06-2.06.94zm10 10l.94 2.06.94-2.06 2.06-.94-2.06-.94-.94-2.06-.94 2.06-2.06.94z\"/><path d=\"M17.41 7.96l-1.37-1.37c-.4-.4-.92-.59-1.43-.59-.52 0-1.04.2-1.43.59L10.3 9.45l-7.72 7.72c-.78.78-.78 2.05 0 2.83L4 21.41c.39.39.9.59 1.41.59.51 0 1.02-.2 1.41-.59l7.78-7.78 2.81-2.81c.8-.78.8-2.07 0-2.86zM5.41 20L4 18.59l7.72-7.72 1.47 1.35L5.41 20z\"/>\n",
              "  </svg>\n",
              "      </button>\n",
              "      \n",
              "  <style>\n",
              "    .colab-df-container {\n",
              "      display:flex;\n",
              "      flex-wrap:wrap;\n",
              "      gap: 12px;\n",
              "    }\n",
              "\n",
              "    .colab-df-convert {\n",
              "      background-color: #E8F0FE;\n",
              "      border: none;\n",
              "      border-radius: 50%;\n",
              "      cursor: pointer;\n",
              "      display: none;\n",
              "      fill: #1967D2;\n",
              "      height: 32px;\n",
              "      padding: 0 0 0 0;\n",
              "      width: 32px;\n",
              "    }\n",
              "\n",
              "    .colab-df-convert:hover {\n",
              "      background-color: #E2EBFA;\n",
              "      box-shadow: 0px 1px 2px rgba(60, 64, 67, 0.3), 0px 1px 3px 1px rgba(60, 64, 67, 0.15);\n",
              "      fill: #174EA6;\n",
              "    }\n",
              "\n",
              "    [theme=dark] .colab-df-convert {\n",
              "      background-color: #3B4455;\n",
              "      fill: #D2E3FC;\n",
              "    }\n",
              "\n",
              "    [theme=dark] .colab-df-convert:hover {\n",
              "      background-color: #434B5C;\n",
              "      box-shadow: 0px 1px 3px 1px rgba(0, 0, 0, 0.15);\n",
              "      filter: drop-shadow(0px 1px 2px rgba(0, 0, 0, 0.3));\n",
              "      fill: #FFFFFF;\n",
              "    }\n",
              "  </style>\n",
              "\n",
              "      <script>\n",
              "        const buttonEl =\n",
              "          document.querySelector('#df-45f02237-a258-4972-81b9-55c9bc1f6a8c button.colab-df-convert');\n",
              "        buttonEl.style.display =\n",
              "          google.colab.kernel.accessAllowed ? 'block' : 'none';\n",
              "\n",
              "        async function convertToInteractive(key) {\n",
              "          const element = document.querySelector('#df-45f02237-a258-4972-81b9-55c9bc1f6a8c');\n",
              "          const dataTable =\n",
              "            await google.colab.kernel.invokeFunction('convertToInteractive',\n",
              "                                                     [key], {});\n",
              "          if (!dataTable) return;\n",
              "\n",
              "          const docLinkHtml = 'Like what you see? Visit the ' +\n",
              "            '<a target=\"_blank\" href=https://colab.research.google.com/notebooks/data_table.ipynb>data table notebook</a>'\n",
              "            + ' to learn more about interactive tables.';\n",
              "          element.innerHTML = '';\n",
              "          dataTable['output_type'] = 'display_data';\n",
              "          await google.colab.output.renderOutput(dataTable, element);\n",
              "          const docLink = document.createElement('div');\n",
              "          docLink.innerHTML = docLinkHtml;\n",
              "          element.appendChild(docLink);\n",
              "        }\n",
              "      </script>\n",
              "    </div>\n",
              "  </div>\n",
              "  "
            ],
            "text/plain": [
              "      Words  Indexes\n",
              "0   tsukino    52009\n",
              "1   nunnery    52010\n",
              "2     sonja    16819\n",
              "3      vani    63954\n",
              "4     woods     1411\n",
              "5   spiders    16118\n",
              "6   hanging     2348\n",
              "7     woody     2292\n",
              "8  trawling    52011\n",
              "9    hold's    52012"
            ]
          },
          "metadata": {},
          "execution_count": 11
        }
      ]
    },
    {
      "cell_type": "code",
      "source": [
        "word_index = dict(zip(word_index.Words,word_index.Indexes))"
      ],
      "metadata": {
        "id": "Yzqb7Du1Gdfs"
      },
      "execution_count": 13,
      "outputs": []
    },
    {
      "cell_type": "markdown",
      "source": [
        "### map extra words in reviews"
      ],
      "metadata": {
        "id": "Jf1VvfXsHezl"
      }
    },
    {
      "cell_type": "code",
      "source": [
        "word_index[\"<PAD>\"]=0\n",
        "word_index[\"<START\"]=1\n",
        "word_index[\"<UNK>\"]=2\n",
        "word_index[\"<UNUSED>\"]=3"
      ],
      "metadata": {
        "id": "9jtx1636HnSw"
      },
      "execution_count": 22,
      "outputs": []
    },
    {
      "cell_type": "code",
      "source": [
        "def review_encoder(text):\n",
        "  arr = [word_index[word] for word in text]\n",
        "  return arr"
      ],
      "metadata": {
        "id": "foTfZHHjH9hy"
      },
      "execution_count": 23,
      "outputs": []
    },
    {
      "cell_type": "code",
      "source": [
        "train_data, train_labels = imdb_reviews['Reviews'], imdb_reviews['Sentiment']\n",
        "test_data, test_labels = test_reviews['Reviews'], test_reviews['Sentiment']"
      ],
      "metadata": {
        "id": "ABZSveR9IpwN"
      },
      "execution_count": 24,
      "outputs": []
    },
    {
      "cell_type": "markdown",
      "source": [
        "### Split on basis of white spaces(words)"
      ],
      "metadata": {
        "id": "ZobNzDhZJS97"
      }
    },
    {
      "cell_type": "code",
      "source": [
        "train_data = train_data.apply(lambda review:review.split())\n",
        "test_data = test_data.apply(lambda review:review.split())"
      ],
      "metadata": {
        "id": "utkOibDEJYat"
      },
      "execution_count": 25,
      "outputs": []
    },
    {
      "cell_type": "code",
      "source": [
        "train_data=train_data.apply(review_encoder)\n",
        "test_data=test_data.apply(review_encoder)"
      ],
      "metadata": {
        "id": "T45hKcEIKQzJ"
      },
      "execution_count": 26,
      "outputs": []
    },
    {
      "cell_type": "code",
      "source": [
        "def encode_sentiments(sentiments):\n",
        "  if sentiments=='positive':\n",
        "    return 1\n",
        "  else:\n",
        "    return 0\n",
        "\n",
        "train_labels=train_labels.apply(encode_sentiments)\n",
        "test_labels=test_labels.apply(encode_sentiments)"
      ],
      "metadata": {
        "id": "Mnd9U-IrKqO6"
      },
      "execution_count": 28,
      "outputs": []
    },
    {
      "cell_type": "code",
      "source": [
        "train_data=keras.preprocessing.sequence.pad_sequences(train_data,value=word_index[\"<PAD>\"],padding='post',maxlen=500)\n",
        "test_data=keras.preprocessing.sequence.pad_sequences(test_data,value=word_index[\"<PAD>\"],padding='post',maxlen=500)"
      ],
      "metadata": {
        "id": "HmoTFCzZK7EQ"
      },
      "execution_count": 29,
      "outputs": []
    },
    {
      "cell_type": "code",
      "source": [
        "  model=keras.Sequential([keras.layers.Embedding(10000,16,input_length=500),\n",
        "                          keras.layers.GlobalAveragePooling1D(),\n",
        "                          keras.layers.Dense(16,activation='relu'),\n",
        "                          keras.layers.Dense(1,activation='sigmoid')\n",
        "                          ])"
      ],
      "metadata": {
        "id": "Ugu0eV7QQ8KS"
      },
      "execution_count": 30,
      "outputs": []
    },
    {
      "cell_type": "code",
      "source": [
        "model.compile(optimizer='adam',loss='binary_crossentropy',metrics=['accuracy'])"
      ],
      "metadata": {
        "id": "nusmSVaaVyTu"
      },
      "execution_count": 31,
      "outputs": []
    },
    {
      "cell_type": "code",
      "source": [
        "history=model.fit(train_data,train_labels,epochs=30,batch_size=512,validation_data=(test_data,test_labels))"
      ],
      "metadata": {
        "colab": {
          "base_uri": "https://localhost:8080/"
        },
        "id": "Y5rGDsq1WPp4",
        "outputId": "15d59bd8-828e-4123-f7df-4b396c33ebe8"
      },
      "execution_count": 32,
      "outputs": [
        {
          "output_type": "stream",
          "name": "stdout",
          "text": [
            "Epoch 1/30\n",
            "49/49 [==============================] - 5s 71ms/step - loss: 0.6920 - accuracy: 0.5747 - val_loss: 0.6903 - val_accuracy: 0.6763\n",
            "Epoch 2/30\n",
            "49/49 [==============================] - 3s 64ms/step - loss: 0.6856 - accuracy: 0.7039 - val_loss: 0.6796 - val_accuracy: 0.6922\n",
            "Epoch 3/30\n",
            "49/49 [==============================] - 3s 65ms/step - loss: 0.6666 - accuracy: 0.7197 - val_loss: 0.6538 - val_accuracy: 0.7535\n",
            "Epoch 4/30\n",
            "49/49 [==============================] - 3s 64ms/step - loss: 0.6294 - accuracy: 0.7688 - val_loss: 0.6114 - val_accuracy: 0.7770\n",
            "Epoch 5/30\n",
            "49/49 [==============================] - 3s 64ms/step - loss: 0.5760 - accuracy: 0.8016 - val_loss: 0.5587 - val_accuracy: 0.8020\n",
            "Epoch 6/30\n",
            "49/49 [==============================] - 3s 62ms/step - loss: 0.5167 - accuracy: 0.8258 - val_loss: 0.5059 - val_accuracy: 0.8209\n",
            "Epoch 7/30\n",
            "49/49 [==============================] - 3s 62ms/step - loss: 0.4600 - accuracy: 0.8470 - val_loss: 0.4589 - val_accuracy: 0.8366\n",
            "Epoch 8/30\n",
            "49/49 [==============================] - 3s 62ms/step - loss: 0.4107 - accuracy: 0.8663 - val_loss: 0.4186 - val_accuracy: 0.8506\n",
            "Epoch 9/30\n",
            "49/49 [==============================] - 3s 61ms/step - loss: 0.3718 - accuracy: 0.8755 - val_loss: 0.3890 - val_accuracy: 0.8580\n",
            "Epoch 10/30\n",
            "49/49 [==============================] - 3s 64ms/step - loss: 0.3414 - accuracy: 0.8832 - val_loss: 0.3665 - val_accuracy: 0.8636\n",
            "Epoch 11/30\n",
            "49/49 [==============================] - 3s 62ms/step - loss: 0.3164 - accuracy: 0.8910 - val_loss: 0.3501 - val_accuracy: 0.8669\n",
            "Epoch 12/30\n",
            "49/49 [==============================] - 3s 59ms/step - loss: 0.2961 - accuracy: 0.8965 - val_loss: 0.3354 - val_accuracy: 0.8719\n",
            "Epoch 13/30\n",
            "49/49 [==============================] - 3s 63ms/step - loss: 0.2795 - accuracy: 0.9010 - val_loss: 0.3249 - val_accuracy: 0.8742\n",
            "Epoch 14/30\n",
            "49/49 [==============================] - 3s 63ms/step - loss: 0.2647 - accuracy: 0.9070 - val_loss: 0.3159 - val_accuracy: 0.8773\n",
            "Epoch 15/30\n",
            "49/49 [==============================] - 3s 60ms/step - loss: 0.2520 - accuracy: 0.9114 - val_loss: 0.3097 - val_accuracy: 0.8783\n",
            "Epoch 16/30\n",
            "49/49 [==============================] - 3s 62ms/step - loss: 0.2410 - accuracy: 0.9155 - val_loss: 0.3033 - val_accuracy: 0.8804\n",
            "Epoch 17/30\n",
            "49/49 [==============================] - 3s 62ms/step - loss: 0.2307 - accuracy: 0.9202 - val_loss: 0.2989 - val_accuracy: 0.8815\n",
            "Epoch 18/30\n",
            "49/49 [==============================] - 3s 66ms/step - loss: 0.2216 - accuracy: 0.9232 - val_loss: 0.2965 - val_accuracy: 0.8816\n",
            "Epoch 19/30\n",
            "49/49 [==============================] - 3s 63ms/step - loss: 0.2130 - accuracy: 0.9254 - val_loss: 0.2918 - val_accuracy: 0.8838\n",
            "Epoch 20/30\n",
            "49/49 [==============================] - 3s 63ms/step - loss: 0.2054 - accuracy: 0.9290 - val_loss: 0.2897 - val_accuracy: 0.8852\n",
            "Epoch 21/30\n",
            "49/49 [==============================] - 3s 60ms/step - loss: 0.1979 - accuracy: 0.9328 - val_loss: 0.2882 - val_accuracy: 0.8850\n",
            "Epoch 22/30\n",
            "49/49 [==============================] - 3s 59ms/step - loss: 0.1916 - accuracy: 0.9340 - val_loss: 0.2866 - val_accuracy: 0.8861\n",
            "Epoch 23/30\n",
            "49/49 [==============================] - 3s 71ms/step - loss: 0.1856 - accuracy: 0.9362 - val_loss: 0.2865 - val_accuracy: 0.8861\n",
            "Epoch 24/30\n",
            "49/49 [==============================] - 3s 62ms/step - loss: 0.1794 - accuracy: 0.9391 - val_loss: 0.2870 - val_accuracy: 0.8856\n",
            "Epoch 25/30\n",
            "49/49 [==============================] - 3s 62ms/step - loss: 0.1739 - accuracy: 0.9410 - val_loss: 0.2887 - val_accuracy: 0.8850\n",
            "Epoch 26/30\n",
            "49/49 [==============================] - 3s 62ms/step - loss: 0.1688 - accuracy: 0.9439 - val_loss: 0.2866 - val_accuracy: 0.8860\n",
            "Epoch 27/30\n",
            "49/49 [==============================] - 3s 59ms/step - loss: 0.1640 - accuracy: 0.9456 - val_loss: 0.2869 - val_accuracy: 0.8860\n",
            "Epoch 28/30\n",
            "49/49 [==============================] - 3s 66ms/step - loss: 0.1595 - accuracy: 0.9467 - val_loss: 0.2883 - val_accuracy: 0.8852\n",
            "Epoch 29/30\n",
            "49/49 [==============================] - 4s 74ms/step - loss: 0.1560 - accuracy: 0.9468 - val_loss: 0.2885 - val_accuracy: 0.8857\n",
            "Epoch 30/30\n",
            "49/49 [==============================] - 3s 63ms/step - loss: 0.1511 - accuracy: 0.9499 - val_loss: 0.2894 - val_accuracy: 0.8857\n"
          ]
        }
      ]
    },
    {
      "cell_type": "code",
      "source": [
        "loss,accuracy=model.evaluate(test_data,test_labels)"
      ],
      "metadata": {
        "colab": {
          "base_uri": "https://localhost:8080/"
        },
        "id": "9a_Cpjx-XAl3",
        "outputId": "83aa5dae-e905-4cf1-8493-b9f7ea67e426"
      },
      "execution_count": 33,
      "outputs": [
        {
          "output_type": "stream",
          "name": "stdout",
          "text": [
            "782/782 [==============================] - 3s 4ms/step - loss: 0.2894 - accuracy: 0.8857\n"
          ]
        }
      ]
    },
    {
      "cell_type": "code",
      "source": [
        "index=np.random.randint(1,1000)\n"
      ],
      "metadata": {
        "id": "5aI-D5GaXjQO"
      },
      "execution_count": 44,
      "outputs": []
    },
    {
      "cell_type": "code",
      "source": [
        "user_review=test_reviews.loc[index]\n",
        "print(user_review)"
      ],
      "metadata": {
        "colab": {
          "base_uri": "https://localhost:8080/"
        },
        "id": "pPYB8pImYpsX",
        "outputId": "89bdbfdd-204e-4a44-c4c6-0416e938d7da"
      },
      "execution_count": 45,
      "outputs": [
        {
          "output_type": "stream",
          "name": "stdout",
          "text": [
            "Reviews      <START definitely not a film to <UNK> the indu...\n",
            "Sentiment                                             positive\n",
            "Name: 257, dtype: object\n"
          ]
        }
      ]
    },
    {
      "cell_type": "code",
      "source": [
        "user_review=test_data[index]\n",
        "user_review=np.array([user_review])\n",
        "if(model.predict(user_review)>0.5).astype(\"int32\"):\n",
        "  print(\"Positive Sentiment\")\n",
        "else:\n",
        "  print(\"Negative Sentiment\")"
      ],
      "metadata": {
        "colab": {
          "base_uri": "https://localhost:8080/"
        },
        "id": "opfUjUueY5O3",
        "outputId": "fa35fb3b-80d2-431d-cbfd-429903700551"
      },
      "execution_count": 46,
      "outputs": [
        {
          "output_type": "stream",
          "name": "stdout",
          "text": [
            "Positive Sentiment\n"
          ]
        }
      ]
    },
    {
      "cell_type": "code",
      "source": [
        ""
      ],
      "metadata": {
        "id": "9qYOB4i4Z3sf"
      },
      "execution_count": null,
      "outputs": []
    }
  ]
}